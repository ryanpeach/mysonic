{
 "cells": [
  {
   "cell_type": "code",
   "execution_count": null,
   "metadata": {},
   "outputs": [],
   "source": [
    "from PIL import Image\n",
    "from pathlib import Path"
   ]
  },
  {
   "cell_type": "code",
   "execution_count": null,
   "metadata": {},
   "outputs": [],
   "source": [
    "from scipy.misc import imsave\n",
    "import os"
   ]
  },
  {
   "cell_type": "code",
   "execution_count": null,
   "metadata": {},
   "outputs": [],
   "source": [
    "import numpy as np"
   ]
  },
  {
   "cell_type": "code",
   "execution_count": null,
   "metadata": {},
   "outputs": [],
   "source": [
    "import matplotlib.pyplot as plt\n",
    "%matplotlib notebook"
   ]
  },
  {
   "cell_type": "code",
   "execution_count": null,
   "metadata": {},
   "outputs": [],
   "source": [
    "from collections import namedtuple"
   ]
  },
  {
   "cell_type": "code",
   "execution_count": null,
   "metadata": {},
   "outputs": [],
   "source": [
    "from sklearn.cluster import DBSCAN, SpectralClustering, KMeans, AgglomerativeClustering\n",
    "from sklearn.preprocessing import MinMaxScaler\n",
    "from sklearn.pipeline import Pipeline"
   ]
  },
  {
   "cell_type": "code",
   "execution_count": null,
   "metadata": {},
   "outputs": [],
   "source": [
    "from __future__ import print_function\n",
    "from ipywidgets import interact, interactive, fixed, interact_manual\n",
    "import ipywidgets as widgets"
   ]
  },
  {
   "cell_type": "code",
   "execution_count": null,
   "metadata": {},
   "outputs": [],
   "source": [
    "Region = namedtuple('BoundingBox', 'x0 y0 x1 y1')"
   ]
  },
  {
   "cell_type": "markdown",
   "metadata": {},
   "source": [
    "# Load the Files"
   ]
  },
  {
   "cell_type": "code",
   "execution_count": null,
   "metadata": {},
   "outputs": [],
   "source": [
    "files = list(Path(\"../../../data/sprites/\").glob(\"*.png\"))\n",
    "files"
   ]
  },
  {
   "cell_type": "code",
   "execution_count": null,
   "metadata": {},
   "outputs": [],
   "source": [
    "@interact(f=files)\n",
    "def draw_file(f):\n",
    "    im = np.array(Image.open(f))\n",
    "    plt.close('all')\n",
    "    plt.figure()\n",
    "    plt.imshow(im)\n",
    "    plt.show()"
   ]
  },
  {
   "cell_type": "markdown",
   "metadata": {},
   "source": [
    "# Show the Files"
   ]
  },
  {
   "cell_type": "code",
   "execution_count": null,
   "metadata": {},
   "outputs": [],
   "source": [
    "f = files[3]\n",
    "im = np.array(Image.open(f))\n",
    "plt.close('all')\n",
    "plt.imshow(im)"
   ]
  },
  {
   "cell_type": "markdown",
   "metadata": {},
   "source": [
    "# Pre-Processing"
   ]
  },
  {
   "cell_type": "markdown",
   "metadata": {},
   "source": [
    "We want to remove primary colors from the background. So we do that here."
   ]
  },
  {
   "cell_type": "code",
   "execution_count": null,
   "metadata": {},
   "outputs": [],
   "source": [
    "def remove_color(img, color, inplace=True):\n",
    "    img = np.asarray(img)\n",
    "    if not inplace:\n",
    "        img = img.copy()\n",
    "    alpha = (~np.all(img[:,:,:3]==color[:3], axis=2))\n",
    "    if img.shape[2]==4:\n",
    "        img[:,:,3] *= alpha\n",
    "    else:\n",
    "        img = np.dstack((img, alpha*255))\n",
    "    return img"
   ]
  },
  {
   "cell_type": "code",
   "execution_count": null,
   "metadata": {},
   "outputs": [],
   "source": [
    "im = remove_color(im, im[0,0,:], inplace=False)\n",
    "plt.close('all')\n",
    "plt.imshow(im)"
   ]
  },
  {
   "cell_type": "markdown",
   "metadata": {},
   "source": [
    "We also want to remove anything which is noisy in the image, like text. So we go to the image and remove regions by covering them with high alpha."
   ]
  },
  {
   "cell_type": "code",
   "execution_count": null,
   "metadata": {},
   "outputs": [],
   "source": [
    "def remove_region(img, region: Region, inplace=True):\n",
    "    img = np.asarray(img)\n",
    "    if not inplace:\n",
    "        img = img.copy()\n",
    "    img[region.y0:region.y1,region.x0:region.x1,3] = 0\n",
    "    return img"
   ]
  },
  {
   "cell_type": "code",
   "execution_count": null,
   "metadata": {},
   "outputs": [],
   "source": [
    "im = remove_region(im, Region(425,250,750,375), inplace=False)\n",
    "plt.close('all')\n",
    "plt.imshow(im)"
   ]
  },
  {
   "cell_type": "markdown",
   "metadata": {},
   "source": [
    "# Clustering\n",
    "\n",
    "We are going to use clustering to detect the sprites"
   ]
  },
  {
   "cell_type": "markdown",
   "metadata": {},
   "source": [
    "## Convert to Scatter Plot\n",
    "\n",
    "First we convert the image to a scatter representation."
   ]
  },
  {
   "cell_type": "code",
   "execution_count": null,
   "metadata": {},
   "outputs": [],
   "source": [
    "im_scatter_y, im_scatter_x = np.where(im[:,:,3]==255)\n",
    "plt.close('all')\n",
    "plt.scatter(im_scatter_x, im_scatter_y, s=.01)\n",
    "plt.imshow(im)"
   ]
  },
  {
   "cell_type": "markdown",
   "metadata": {},
   "source": [
    "Now we define our clustering pipeline."
   ]
  },
  {
   "cell_type": "code",
   "execution_count": null,
   "metadata": {},
   "outputs": [],
   "source": [
    "cluster = Pipeline([('clustering', DBSCAN(2.))])"
   ]
  },
  {
   "cell_type": "markdown",
   "metadata": {},
   "source": [
    "And our data."
   ]
  },
  {
   "cell_type": "code",
   "execution_count": null,
   "metadata": {},
   "outputs": [],
   "source": [
    "X = np.vstack((im_scatter_x, im_scatter_y)).T\n",
    "X.shape"
   ]
  },
  {
   "cell_type": "markdown",
   "metadata": {},
   "source": [
    "We fit the cluster and get the number of clusters."
   ]
  },
  {
   "cell_type": "code",
   "execution_count": null,
   "metadata": {},
   "outputs": [],
   "source": [
    "cluster.fit(X)\n",
    "core_samples_mask = np.zeros_like(cluster.named_steps['clustering'].labels_, dtype=bool)\n",
    "core_samples_mask[cluster.named_steps['clustering'].core_sample_indices_] = True\n",
    "labels = cluster.named_steps['clustering'].labels_\n",
    "unique_labels = np.unique(labels)\n",
    "print(\"n clusters:\", len(unique_labels))"
   ]
  },
  {
   "cell_type": "markdown",
   "metadata": {},
   "source": [
    "## Plotting Clusters\n",
    "\n",
    "Now we plot it to check that it's right."
   ]
  },
  {
   "cell_type": "code",
   "execution_count": null,
   "metadata": {},
   "outputs": [],
   "source": [
    "# REF: http://scikit-learn.org/stable/auto_examples/cluster/plot_dbscan.html#sphx-glr-auto-examples-cluster-plot-dbscan-py\n",
    "def plot_clusters(img, X, core_samples_mask, all_labels, colors):\n",
    "    unique_labels = np.unique(all_labels)\n",
    "    fig, ax = plt.subplots()\n",
    "    for k, col in zip(unique_labels, colors):\n",
    "        if k == -1:\n",
    "            # Black used for noise.\n",
    "            col = [0, 0, 0, 1]\n",
    "\n",
    "        class_member_mask = (all_labels == k)\n",
    "\n",
    "        xy = X[class_member_mask & core_samples_mask]\n",
    "        ax.plot(xy[:, 0], xy[:, 1], markerfacecolor=tuple(col), markersize=1, alpha=.5)\n",
    "\n",
    "    ax.imshow(img, alpha=.5)\n",
    "    return ax"
   ]
  },
  {
   "cell_type": "code",
   "execution_count": null,
   "metadata": {},
   "outputs": [],
   "source": [
    "plt.close('all')\n",
    "colors = [plt.cm.Spectral(each)\n",
    "              for each in np.linspace(0, 1, len(unique_labels))]\n",
    "plot_clusters(im,\n",
    "              all_labels=labels,\n",
    "              X=X,\n",
    "              core_samples_mask=core_samples_mask,\n",
    "              colors=colors)"
   ]
  },
  {
   "cell_type": "markdown",
   "metadata": {},
   "source": [
    "## Bounding Boxes\n",
    "\n",
    "Now for each cluster we get the bounding box."
   ]
  },
  {
   "cell_type": "code",
   "execution_count": null,
   "metadata": {},
   "outputs": [],
   "source": [
    "def get_sprite(X,\n",
    "               core_samples_mask,\n",
    "               all_labels,\n",
    "               given_label,\n",
    "               color,\n",
    "               x_pad=2,\n",
    "               y_pad=2):\n",
    "    class_member_mask = (all_labels == given_label)\n",
    "    xy = X[class_member_mask & core_samples_mask]\n",
    "    return Region(x0=max(0,np.min(xy[:, 0])-x_pad),\n",
    "                  y0=max(0,np.min(xy[:, 1])-y_pad),\n",
    "                  x1=min(np.max(X[:, 0]), np.max(xy[:, 0])+x_pad),\n",
    "                  y1=min(np.max(X[:, 1]), np.max(xy[:, 1])+y_pad))\n",
    "    "
   ]
  },
  {
   "cell_type": "code",
   "execution_count": null,
   "metadata": {},
   "outputs": [],
   "source": [
    "plt.close('all')\n",
    "sprite_regions = [get_sprite(X=X,\n",
    "                             core_samples_mask=core_samples_mask,\n",
    "                             all_labels=labels,\n",
    "                             given_label=k,\n",
    "                             color=col) for k, col in zip(unique_labels, colors) if k != -1]\n",
    "sprite_regions"
   ]
  },
  {
   "cell_type": "markdown",
   "metadata": {},
   "source": [
    "And we get those regions from the image."
   ]
  },
  {
   "cell_type": "code",
   "execution_count": null,
   "metadata": {},
   "outputs": [],
   "source": [
    "def get_region(img, region: Region):\n",
    "    img = np.asarray(img)\n",
    "    return img[region.y0:region.y1,region.x0:region.x1]"
   ]
  },
  {
   "cell_type": "code",
   "execution_count": null,
   "metadata": {},
   "outputs": [],
   "source": [
    "sprites = [get_region(im, reg) for reg in sprite_regions]"
   ]
  },
  {
   "cell_type": "markdown",
   "metadata": {},
   "source": [
    "## Plotting Sprites\n",
    "Now we check them all to see if they are right."
   ]
  },
  {
   "cell_type": "code",
   "execution_count": null,
   "metadata": {},
   "outputs": [],
   "source": [
    "fig, axes = plt.subplots(int(np.ceil(np.sqrt(len(sprites)))),\n",
    "                         int(np.floor(len(sprites)/np.sqrt(len(sprites)))),\n",
    "                         sharex=True, sharey=True)\n",
    "j = 0\n",
    "for axes_i in axes:\n",
    "    for axes_j in axes_i:\n",
    "        axes_j.imshow(sprites[j])\n",
    "        j += 1"
   ]
  },
  {
   "cell_type": "code",
   "execution_count": null,
   "metadata": {},
   "outputs": [],
   "source": [
    "@interact(n=list(range(len(sprites))))\n",
    "def draw_sprite(n):\n",
    "    plt.close('all')\n",
    "    plt.figure()\n",
    "    plt.imshow(sprites[n])\n",
    "    plt.show()"
   ]
  },
  {
   "cell_type": "markdown",
   "metadata": {},
   "source": [
    "## Saving"
   ]
  },
  {
   "cell_type": "code",
   "execution_count": null,
   "metadata": {},
   "outputs": [],
   "source": [
    "os.makedirs(f.parent / f.stem, exist_ok=True)\n",
    "for i, sprite in enumerate(sprites):\n",
    "    fname = f.parent / f.stem / (str(i) + \".png\")\n",
    "    imsave(fname, sprite)"
   ]
  },
  {
   "cell_type": "markdown",
   "metadata": {},
   "source": [
    "# Put it all together"
   ]
  },
  {
   "cell_type": "code",
   "execution_count": null,
   "metadata": {},
   "outputs": [],
   "source": [
    "def preprocess(f, *,\n",
    "               color_locations=[],\n",
    "               removal_regions=[],\n",
    "               plot=True,\n",
    "               save=False,\n",
    "               **kwargs):\n",
    "    # Get the image\n",
    "    img = np.array(Image.open(f).convert(\"RGBA\"))\n",
    "    \n",
    "    if plot:\n",
    "        plt.figure(0)\n",
    "        plt.imshow(img)\n",
    "        plt.title(\"Image Pre Processing\")\n",
    "        \n",
    "    # Remove Primary Colors\n",
    "    for (x,y) in color_locations:\n",
    "        img = remove_color(img, img[y,x,:], inplace=True)\n",
    "    \n",
    "    # Remove Regions\n",
    "    for reg in removal_regions:\n",
    "        img = remove_region(img, reg, inplace=True)\n",
    "        \n",
    "    if plot:\n",
    "        plt.figure(1)\n",
    "        plt.imshow(img)\n",
    "        plt.title(\"Image Post Processing\")\n",
    "    \n",
    "    # Save or return\n",
    "    if save:\n",
    "        os.makedirs(f.parent / f.stem, exist_ok=True)\n",
    "        fname = f.parent / f.stem / (f.stem + \".png\")\n",
    "        imsave(fname, sprite)\n",
    "    else:\n",
    "        return img"
   ]
  },
  {
   "cell_type": "code",
   "execution_count": null,
   "metadata": {},
   "outputs": [],
   "source": [
    "def postprocess(img, *,\n",
    "                cluster_type=DBSCAN,\n",
    "                cluster_args={'eps':2., 'min_samples': 2},\n",
    "                post_color_locations=[],\n",
    "                x_pad=2,\n",
    "                y_pad=2,\n",
    "                plot=True,\n",
    "                save=True,\n",
    "                **kwargs):\n",
    " \n",
    "    # Get the scatter data\n",
    "    im_scatter_y, im_scatter_x = np.where(img[:,:,3]==255)\n",
    "    X = np.vstack((im_scatter_x, im_scatter_y)).T\n",
    "    \n",
    "    # Get the pipeline\n",
    "    cluster = Pipeline([('clustering', cluster_type(**cluster_args))])\n",
    "    \n",
    "    # Train the pipeline\n",
    "    cluster.fit(X)\n",
    "    core_samples_mask = np.zeros_like(cluster.named_steps['clustering'].labels_, dtype=bool)\n",
    "    try:\n",
    "        core_samples_mask[cluster.named_steps['clustering'].core_sample_indices_] = True\n",
    "    except:\n",
    "        core_samples_mask[:] = True\n",
    "    labels = cluster.named_steps['clustering'].labels_\n",
    "    unique_labels = np.unique(labels)\n",
    "    print(\"n clusters:\", len(unique_labels))\n",
    "    \n",
    "    # Plot the clusters\n",
    "    colors = [plt.cm.Spectral(each)\n",
    "              for each in np.linspace(0, 1, len(unique_labels))]\n",
    "    if plot:\n",
    "        ax = plot_clusters(img, X=X, core_samples_mask=core_samples_mask, all_labels=labels, colors=colors)\n",
    "        ax.set_title(\"Clusters\")\n",
    "    \n",
    "    # Get the sprites\n",
    "    sprite_regions = [get_sprite(X=X,\n",
    "                                 core_samples_mask=core_samples_mask,\n",
    "                                 all_labels=labels,\n",
    "                                 given_label=k,\n",
    "                                 color=col,\n",
    "                                 x_pad=x_pad,\n",
    "                                 y_pad=y_pad) for k, col in zip(unique_labels, colors) if k != -1]\n",
    "    sprites = [get_region(img, reg) for reg in sprite_regions]\n",
    "    \n",
    "    # Remove Primary Colors\n",
    "    for sprite in sprites:\n",
    "        for (x,y) in post_color_locations:\n",
    "            remove_color(sprite, img[y,x,:], inplace=True)\n",
    "    \n",
    "    if plot:\n",
    "        fig, axes = plt.subplots(int(np.ceil(np.sqrt(len(sprites)))),\n",
    "                                 int(np.floor(len(sprites)/np.sqrt(len(sprites)))),\n",
    "                                 sharex=True, sharey=True)\n",
    "        j = 0\n",
    "        for axes_i in axes:\n",
    "            for axes_j in axes_i:\n",
    "                if j < len(sprite_regions):\n",
    "                    try:\n",
    "                        axes_j.imshow(sprites[j])\n",
    "                    except:\n",
    "                        print(\"Show Error:\",sprite_regions[j])\n",
    "                j += 1\n",
    "        fig.suptitle('All Sprites')\n",
    "                \n",
    "    # Save or return\n",
    "    if save is not None and save is not False and isinstance(save, (str, Path)):\n",
    "        save = Path(save)\n",
    "        os.makedirs(save, exist_ok=True)\n",
    "        # Delete existing files\n",
    "        for f_ in save.glob('*.png'):\n",
    "            f_.unlink()\n",
    "        # Create new files\n",
    "        for i, sprite in enumerate(sprites):\n",
    "            try:\n",
    "                imsave(save / (str(i)+'.png'), sprite)\n",
    "            except Exception as e:\n",
    "                print(\"Save Error:\",sprite_regions[i],e)\n",
    "    else:\n",
    "        return sprites"
   ]
  },
  {
   "cell_type": "code",
   "execution_count": null,
   "metadata": {},
   "outputs": [],
   "source": [
    "def main(save=True, **kwargs):\n",
    "    img = preprocess(save=False, **kwargs)\n",
    "    \n",
    "    # If save is a bool, and is true, create a path\n",
    "    if save and isinstance(save, bool):\n",
    "        save = kwargs['f'].parent / kwargs['f'].stem\n",
    "        \n",
    "    # If save is a string, make it a path\n",
    "    elif save and isinstance(save, str):\n",
    "        save = Path(kwargs['save'])\n",
    "        \n",
    "    # If save is a path, keep it as is\n",
    "    elif save and isinstance(save, Path):\n",
    "        pass\n",
    "    \n",
    "    # Otherwise, set save to None\n",
    "    else:\n",
    "        save = None\n",
    "        \n",
    "    return postprocess(img, save=save, **kwargs)"
   ]
  },
  {
   "cell_type": "code",
   "execution_count": null,
   "metadata": {},
   "outputs": [],
   "source": [
    "main(f=files[3],\n",
    "     color_locations=[(0,0)],\n",
    "     removal_regions=[Region(425,250,750,375)])"
   ]
  },
  {
   "cell_type": "markdown",
   "metadata": {},
   "source": [
    "# Finally\n",
    "\n",
    "Here's the tool."
   ]
  },
  {
   "cell_type": "code",
   "execution_count": null,
   "metadata": {},
   "outputs": [],
   "source": [
    "%matplotlib notebook"
   ]
  },
  {
   "cell_type": "code",
   "execution_count": null,
   "metadata": {},
   "outputs": [],
   "source": [
    "f=files[22]\n",
    "im = np.array(Image.open(f))\n",
    "plt.close('all')\n",
    "plt.figure()\n",
    "plt.imshow(im)\n",
    "plt.show()"
   ]
  },
  {
   "cell_type": "code",
   "execution_count": null,
   "metadata": {},
   "outputs": [],
   "source": [
    "%matplotlib inline"
   ]
  },
  {
   "cell_type": "markdown",
   "metadata": {},
   "source": [
    "Run automatically on all files."
   ]
  },
  {
   "cell_type": "code",
   "execution_count": null,
   "metadata": {},
   "outputs": [],
   "source": [
    "for f in files:\n",
    "    try:\n",
    "        main(f=f, plot=False)\n",
    "        print(\"Success:\", f)\n",
    "    except:\n",
    "        print(\"Error:\", f)"
   ]
  },
  {
   "cell_type": "markdown",
   "metadata": {},
   "source": [
    "Now we will run individually on the problem files."
   ]
  },
  {
   "cell_type": "code",
   "execution_count": null,
   "metadata": {},
   "outputs": [],
   "source": [
    "main(f=Path('../../../data/sprites/dr-robotnik-12.png'),\n",
    "     color_locations=[],\n",
    "     removal_regions=[],\n",
    "     post_color_locations=[(72,164),(488,458)])"
   ]
  },
  {
   "cell_type": "code",
   "execution_count": null,
   "metadata": {},
   "outputs": [],
   "source": [
    "main(f=Path('../../../data/sprites/dr-robotnik-11.png'),\n",
    "     cluster_type=DBSCAN,\n",
    "     cluster_args={'eps':1.8},\n",
    "     color_locations=[],\n",
    "     removal_regions=[],\n",
    "     post_color_locations=[],\n",
    "     x_pad=0,\n",
    "     y_pad=0)"
   ]
  },
  {
   "cell_type": "code",
   "execution_count": null,
   "metadata": {},
   "outputs": [],
   "source": [
    "main(f=Path('../../../data/sprites/dr-robotnik-8.png'),\n",
    "     cluster_type=DBSCAN,\n",
    "     cluster_args={'eps':1.8},\n",
    "     color_locations=[],\n",
    "     removal_regions=[],\n",
    "     post_color_locations=[],\n",
    "     x_pad=0,\n",
    "     y_pad=0)"
   ]
  },
  {
   "cell_type": "code",
   "execution_count": null,
   "metadata": {},
   "outputs": [],
   "source": [
    "main(f=Path('../../../data/sprites/item-boxes-2.png'),\n",
    "     cluster_type=DBSCAN,\n",
    "     cluster_args={'eps':1.8},\n",
    "     color_locations=[],\n",
    "     removal_regions=[],\n",
    "     post_color_locations=[],\n",
    "     x_pad=0,\n",
    "     y_pad=0)"
   ]
  },
  {
   "cell_type": "code",
   "execution_count": null,
   "metadata": {},
   "outputs": [],
   "source": [
    "main(f=Path('../../../data/sprites/items-objects.png'),\n",
    "     color_locations=[],\n",
    "     removal_regions=[],\n",
    "     post_color_locations=[(40,22)],\n",
    "     x_pad=0,\n",
    "     y_pad=0)"
   ]
  },
  {
   "cell_type": "code",
   "execution_count": null,
   "metadata": {},
   "outputs": [],
   "source": []
  }
 ],
 "metadata": {
  "kernelspec": {
   "display_name": "Python 3",
   "language": "python",
   "name": "python3"
  },
  "language_info": {
   "codemirror_mode": {
    "name": "ipython",
    "version": 3
   },
   "file_extension": ".py",
   "mimetype": "text/x-python",
   "name": "python",
   "nbconvert_exporter": "python",
   "pygments_lexer": "ipython3",
   "version": "3.6.4"
  }
 },
 "nbformat": 4,
 "nbformat_minor": 2
}
